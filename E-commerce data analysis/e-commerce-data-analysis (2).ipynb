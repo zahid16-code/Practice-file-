{
 "cells": [
  {
   "cell_type": "code",
   "execution_count": 1,
   "id": "667ba4e3",
   "metadata": {
    "_cell_guid": "b1076dfc-b9ad-4769-8c92-a6c4dae69d19",
    "_uuid": "8f2839f25d086af736a60e9eeb907d3b93b6e0e5",
    "execution": {
     "iopub.execute_input": "2024-10-03T16:06:43.193758Z",
     "iopub.status.busy": "2024-10-03T16:06:43.193213Z",
     "iopub.status.idle": "2024-10-03T16:06:44.287062Z",
     "shell.execute_reply": "2024-10-03T16:06:44.285359Z"
    },
    "papermill": {
     "duration": 1.116151,
     "end_time": "2024-10-03T16:06:44.290220",
     "exception": false,
     "start_time": "2024-10-03T16:06:43.174069",
     "status": "completed"
    },
    "tags": []
   },
   "outputs": [
    {
     "name": "stdout",
     "output_type": "stream",
     "text": [
      "/kaggle/input/ecommerce-dataset-for-data-analysis/project1_df.csv\n"
     ]
    }
   ],
   "source": [
    "# This Python 3 environment comes with many helpful analytics libraries installed\n",
    "# It is defined by the kaggle/python Docker image: https://github.com/kaggle/docker-python\n",
    "# For example, here's several helpful packages to load\n",
    "\n",
    "import numpy as np # linear algebra\n",
    "import pandas as pd # data processing, CSV file I/O (e.g. pd.read_csv)\n",
    "\n",
    "# Input data files are available in the read-only \"../input/\" directory\n",
    "# For example, running this (by clicking run or pressing Shift+Enter) will list all files under the input directory\n",
    "\n",
    "import os\n",
    "for dirname, _, filenames in os.walk('/kaggle/input'):\n",
    "    for filename in filenames:\n",
    "        print(os.path.join(dirname, filename))\n",
    "\n",
    "# You can write up to 20GB to the current directory (/kaggle/working/) that gets preserved as output when you create a version using \"Save & Run All\" \n",
    "# You can also write temporary files to /kaggle/temp/, but they won't be saved outside of the current session"
   ]
  },
  {
   "cell_type": "code",
   "execution_count": 2,
   "id": "4b52b86e",
   "metadata": {
    "execution": {
     "iopub.execute_input": "2024-10-03T16:06:44.327630Z",
     "iopub.status.busy": "2024-10-03T16:06:44.326971Z",
     "iopub.status.idle": "2024-10-03T16:06:46.283287Z",
     "shell.execute_reply": "2024-10-03T16:06:46.282004Z"
    },
    "papermill": {
     "duration": 1.979175,
     "end_time": "2024-10-03T16:06:46.286374",
     "exception": false,
     "start_time": "2024-10-03T16:06:44.307199",
     "status": "completed"
    },
    "tags": []
   },
   "outputs": [],
   "source": [
    "#importing the needed library\n",
    "import pandas as pd\n",
    "import matplotlib.pyplot as plt\n",
    "import seaborn as sns"
   ]
  },
  {
   "cell_type": "code",
   "execution_count": 3,
   "id": "1fe96b36",
   "metadata": {
    "execution": {
     "iopub.execute_input": "2024-10-03T16:06:46.322943Z",
     "iopub.status.busy": "2024-10-03T16:06:46.321858Z",
     "iopub.status.idle": "2024-10-03T16:06:46.630851Z",
     "shell.execute_reply": "2024-10-03T16:06:46.629413Z"
    },
    "papermill": {
     "duration": 0.33064,
     "end_time": "2024-10-03T16:06:46.633919",
     "exception": false,
     "start_time": "2024-10-03T16:06:46.303279",
     "status": "completed"
    },
    "tags": []
   },
   "outputs": [],
   "source": [
    "#importing the data\n",
    "df=pd.read_csv(\"/kaggle/input/ecommerce-dataset-for-data-analysis/project1_df.csv\")"
   ]
  },
  {
   "cell_type": "code",
   "execution_count": 4,
   "id": "9c2413ea",
   "metadata": {
    "execution": {
     "iopub.execute_input": "2024-10-03T16:06:46.670260Z",
     "iopub.status.busy": "2024-10-03T16:06:46.669808Z",
     "iopub.status.idle": "2024-10-03T16:06:46.705547Z",
     "shell.execute_reply": "2024-10-03T16:06:46.704066Z"
    },
    "papermill": {
     "duration": 0.057916,
     "end_time": "2024-10-03T16:06:46.708641",
     "exception": false,
     "start_time": "2024-10-03T16:06:46.650725",
     "status": "completed"
    },
    "tags": []
   },
   "outputs": [
    {
     "data": {
      "text/html": [
       "<div>\n",
       "<style scoped>\n",
       "    .dataframe tbody tr th:only-of-type {\n",
       "        vertical-align: middle;\n",
       "    }\n",
       "\n",
       "    .dataframe tbody tr th {\n",
       "        vertical-align: top;\n",
       "    }\n",
       "\n",
       "    .dataframe thead th {\n",
       "        text-align: right;\n",
       "    }\n",
       "</style>\n",
       "<table border=\"1\" class=\"dataframe\">\n",
       "  <thead>\n",
       "    <tr style=\"text-align: right;\">\n",
       "      <th></th>\n",
       "      <th>CID</th>\n",
       "      <th>TID</th>\n",
       "      <th>Gender</th>\n",
       "      <th>Age Group</th>\n",
       "      <th>Purchase Date</th>\n",
       "      <th>Product Category</th>\n",
       "      <th>Discount Availed</th>\n",
       "      <th>Discount Name</th>\n",
       "      <th>Discount Amount (INR)</th>\n",
       "      <th>Gross Amount</th>\n",
       "      <th>Net Amount</th>\n",
       "      <th>Purchase Method</th>\n",
       "      <th>Location</th>\n",
       "    </tr>\n",
       "  </thead>\n",
       "  <tbody>\n",
       "    <tr>\n",
       "      <th>0</th>\n",
       "      <td>943146</td>\n",
       "      <td>5876328741</td>\n",
       "      <td>Female</td>\n",
       "      <td>25-45</td>\n",
       "      <td>30/08/2023 20:27:08</td>\n",
       "      <td>Electronics</td>\n",
       "      <td>Yes</td>\n",
       "      <td>FESTIVE50</td>\n",
       "      <td>64.30</td>\n",
       "      <td>725.304000</td>\n",
       "      <td>661.004000</td>\n",
       "      <td>Credit Card</td>\n",
       "      <td>Ahmedabad</td>\n",
       "    </tr>\n",
       "    <tr>\n",
       "      <th>1</th>\n",
       "      <td>180079</td>\n",
       "      <td>1018503182</td>\n",
       "      <td>Male</td>\n",
       "      <td>25-45</td>\n",
       "      <td>23/02/2024 09:33:46</td>\n",
       "      <td>Electronics</td>\n",
       "      <td>Yes</td>\n",
       "      <td>SEASONALOFFER21</td>\n",
       "      <td>175.19</td>\n",
       "      <td>4638.991875</td>\n",
       "      <td>4463.801875</td>\n",
       "      <td>Credit Card</td>\n",
       "      <td>Bangalore</td>\n",
       "    </tr>\n",
       "    <tr>\n",
       "      <th>2</th>\n",
       "      <td>337580</td>\n",
       "      <td>3814082218</td>\n",
       "      <td>Other</td>\n",
       "      <td>60 and above</td>\n",
       "      <td>06/03/2022 09:09:50</td>\n",
       "      <td>Clothing</td>\n",
       "      <td>Yes</td>\n",
       "      <td>SEASONALOFFER21</td>\n",
       "      <td>211.54</td>\n",
       "      <td>1986.372575</td>\n",
       "      <td>1774.832575</td>\n",
       "      <td>Credit Card</td>\n",
       "      <td>Delhi</td>\n",
       "    </tr>\n",
       "    <tr>\n",
       "      <th>3</th>\n",
       "      <td>180333</td>\n",
       "      <td>1395204173</td>\n",
       "      <td>Other</td>\n",
       "      <td>60 and above</td>\n",
       "      <td>04/11/2020 04:41:57</td>\n",
       "      <td>Sports &amp; Fitness</td>\n",
       "      <td>No</td>\n",
       "      <td>NaN</td>\n",
       "      <td>0.00</td>\n",
       "      <td>5695.612650</td>\n",
       "      <td>5695.612650</td>\n",
       "      <td>Debit Card</td>\n",
       "      <td>Delhi</td>\n",
       "    </tr>\n",
       "    <tr>\n",
       "      <th>4</th>\n",
       "      <td>447553</td>\n",
       "      <td>8009390577</td>\n",
       "      <td>Male</td>\n",
       "      <td>18-25</td>\n",
       "      <td>31/05/2022 17:00:32</td>\n",
       "      <td>Sports &amp; Fitness</td>\n",
       "      <td>Yes</td>\n",
       "      <td>WELCOME5</td>\n",
       "      <td>439.92</td>\n",
       "      <td>2292.651500</td>\n",
       "      <td>1852.731500</td>\n",
       "      <td>Credit Card</td>\n",
       "      <td>Delhi</td>\n",
       "    </tr>\n",
       "  </tbody>\n",
       "</table>\n",
       "</div>"
      ],
      "text/plain": [
       "      CID         TID  Gender     Age Group        Purchase Date  \\\n",
       "0  943146  5876328741  Female         25-45  30/08/2023 20:27:08   \n",
       "1  180079  1018503182    Male         25-45  23/02/2024 09:33:46   \n",
       "2  337580  3814082218   Other  60 and above  06/03/2022 09:09:50   \n",
       "3  180333  1395204173   Other  60 and above  04/11/2020 04:41:57   \n",
       "4  447553  8009390577    Male         18-25  31/05/2022 17:00:32   \n",
       "\n",
       "   Product Category Discount Availed    Discount Name  Discount Amount (INR)  \\\n",
       "0       Electronics              Yes        FESTIVE50                  64.30   \n",
       "1       Electronics              Yes  SEASONALOFFER21                 175.19   \n",
       "2          Clothing              Yes  SEASONALOFFER21                 211.54   \n",
       "3  Sports & Fitness               No              NaN                   0.00   \n",
       "4  Sports & Fitness              Yes         WELCOME5                 439.92   \n",
       "\n",
       "   Gross Amount   Net Amount Purchase Method   Location  \n",
       "0    725.304000   661.004000     Credit Card  Ahmedabad  \n",
       "1   4638.991875  4463.801875     Credit Card  Bangalore  \n",
       "2   1986.372575  1774.832575     Credit Card      Delhi  \n",
       "3   5695.612650  5695.612650      Debit Card      Delhi  \n",
       "4   2292.651500  1852.731500     Credit Card      Delhi  "
      ]
     },
     "execution_count": 4,
     "metadata": {},
     "output_type": "execute_result"
    }
   ],
   "source": [
    "#overview of the dataframe\n",
    "df.head()"
   ]
  },
  {
   "cell_type": "code",
   "execution_count": 5,
   "id": "c12a820b",
   "metadata": {
    "execution": {
     "iopub.execute_input": "2024-10-03T16:06:46.746147Z",
     "iopub.status.busy": "2024-10-03T16:06:46.745689Z",
     "iopub.status.idle": "2024-10-03T16:06:46.753674Z",
     "shell.execute_reply": "2024-10-03T16:06:46.752441Z"
    },
    "papermill": {
     "duration": 0.030077,
     "end_time": "2024-10-03T16:06:46.756725",
     "exception": false,
     "start_time": "2024-10-03T16:06:46.726648",
     "status": "completed"
    },
    "tags": []
   },
   "outputs": [
    {
     "data": {
      "text/plain": [
       "(55000, 13)"
      ]
     },
     "execution_count": 5,
     "metadata": {},
     "output_type": "execute_result"
    }
   ],
   "source": [
    "#shape of the dataframe\n",
    "df.shape"
   ]
  },
  {
   "cell_type": "code",
   "execution_count": 6,
   "id": "7d9978a6",
   "metadata": {
    "execution": {
     "iopub.execute_input": "2024-10-03T16:06:46.796077Z",
     "iopub.status.busy": "2024-10-03T16:06:46.794833Z",
     "iopub.status.idle": "2024-10-03T16:06:46.803110Z",
     "shell.execute_reply": "2024-10-03T16:06:46.801845Z"
    },
    "papermill": {
     "duration": 0.031201,
     "end_time": "2024-10-03T16:06:46.805930",
     "exception": false,
     "start_time": "2024-10-03T16:06:46.774729",
     "status": "completed"
    },
    "tags": []
   },
   "outputs": [
    {
     "data": {
      "text/plain": [
       "Index(['CID', 'TID', 'Gender', 'Age Group', 'Purchase Date',\n",
       "       'Product Category', 'Discount Availed', 'Discount Name',\n",
       "       'Discount Amount (INR)', 'Gross Amount', 'Net Amount',\n",
       "       'Purchase Method', 'Location'],\n",
       "      dtype='object')"
      ]
     },
     "execution_count": 6,
     "metadata": {},
     "output_type": "execute_result"
    }
   ],
   "source": [
    "#columns in the dataframe\n",
    "df.columns"
   ]
  },
  {
   "cell_type": "code",
   "execution_count": 7,
   "id": "88494a45",
   "metadata": {
    "execution": {
     "iopub.execute_input": "2024-10-03T16:06:46.845796Z",
     "iopub.status.busy": "2024-10-03T16:06:46.845306Z",
     "iopub.status.idle": "2024-10-03T16:06:46.896030Z",
     "shell.execute_reply": "2024-10-03T16:06:46.894812Z"
    },
    "papermill": {
     "duration": 0.074735,
     "end_time": "2024-10-03T16:06:46.898714",
     "exception": false,
     "start_time": "2024-10-03T16:06:46.823979",
     "status": "completed"
    },
    "tags": []
   },
   "outputs": [
    {
     "data": {
      "text/html": [
       "<div>\n",
       "<style scoped>\n",
       "    .dataframe tbody tr th:only-of-type {\n",
       "        vertical-align: middle;\n",
       "    }\n",
       "\n",
       "    .dataframe tbody tr th {\n",
       "        vertical-align: top;\n",
       "    }\n",
       "\n",
       "    .dataframe thead th {\n",
       "        text-align: right;\n",
       "    }\n",
       "</style>\n",
       "<table border=\"1\" class=\"dataframe\">\n",
       "  <thead>\n",
       "    <tr style=\"text-align: right;\">\n",
       "      <th></th>\n",
       "      <th>CID</th>\n",
       "      <th>TID</th>\n",
       "      <th>Discount Amount (INR)</th>\n",
       "      <th>Gross Amount</th>\n",
       "      <th>Net Amount</th>\n",
       "    </tr>\n",
       "  </thead>\n",
       "  <tbody>\n",
       "    <tr>\n",
       "      <th>count</th>\n",
       "      <td>55000.000000</td>\n",
       "      <td>5.500000e+04</td>\n",
       "      <td>55000.000000</td>\n",
       "      <td>55000.000000</td>\n",
       "      <td>55000.000000</td>\n",
       "    </tr>\n",
       "    <tr>\n",
       "      <th>mean</th>\n",
       "      <td>551245.593891</td>\n",
       "      <td>5.504740e+09</td>\n",
       "      <td>136.986796</td>\n",
       "      <td>3012.936606</td>\n",
       "      <td>2875.949810</td>\n",
       "    </tr>\n",
       "    <tr>\n",
       "      <th>std</th>\n",
       "      <td>260603.330337</td>\n",
       "      <td>2.594534e+09</td>\n",
       "      <td>165.375502</td>\n",
       "      <td>1718.431066</td>\n",
       "      <td>1726.127778</td>\n",
       "    </tr>\n",
       "    <tr>\n",
       "      <th>min</th>\n",
       "      <td>100009.000000</td>\n",
       "      <td>1.000163e+09</td>\n",
       "      <td>0.000000</td>\n",
       "      <td>136.454325</td>\n",
       "      <td>-351.119775</td>\n",
       "    </tr>\n",
       "    <tr>\n",
       "      <th>25%</th>\n",
       "      <td>323717.000000</td>\n",
       "      <td>3.252604e+09</td>\n",
       "      <td>0.000000</td>\n",
       "      <td>1562.111325</td>\n",
       "      <td>1429.551863</td>\n",
       "    </tr>\n",
       "    <tr>\n",
       "      <th>50%</th>\n",
       "      <td>550088.500000</td>\n",
       "      <td>5.498383e+09</td>\n",
       "      <td>0.000000</td>\n",
       "      <td>2954.266150</td>\n",
       "      <td>2814.910875</td>\n",
       "    </tr>\n",
       "    <tr>\n",
       "      <th>75%</th>\n",
       "      <td>776955.750000</td>\n",
       "      <td>7.747933e+09</td>\n",
       "      <td>274.115000</td>\n",
       "      <td>4342.221675</td>\n",
       "      <td>4211.407838</td>\n",
       "    </tr>\n",
       "    <tr>\n",
       "      <th>max</th>\n",
       "      <td>999996.000000</td>\n",
       "      <td>9.999393e+09</td>\n",
       "      <td>500.000000</td>\n",
       "      <td>8394.825600</td>\n",
       "      <td>8394.825600</td>\n",
       "    </tr>\n",
       "  </tbody>\n",
       "</table>\n",
       "</div>"
      ],
      "text/plain": [
       "                 CID           TID  Discount Amount (INR)  Gross Amount  \\\n",
       "count   55000.000000  5.500000e+04           55000.000000  55000.000000   \n",
       "mean   551245.593891  5.504740e+09             136.986796   3012.936606   \n",
       "std    260603.330337  2.594534e+09             165.375502   1718.431066   \n",
       "min    100009.000000  1.000163e+09               0.000000    136.454325   \n",
       "25%    323717.000000  3.252604e+09               0.000000   1562.111325   \n",
       "50%    550088.500000  5.498383e+09               0.000000   2954.266150   \n",
       "75%    776955.750000  7.747933e+09             274.115000   4342.221675   \n",
       "max    999996.000000  9.999393e+09             500.000000   8394.825600   \n",
       "\n",
       "         Net Amount  \n",
       "count  55000.000000  \n",
       "mean    2875.949810  \n",
       "std     1726.127778  \n",
       "min     -351.119775  \n",
       "25%     1429.551863  \n",
       "50%     2814.910875  \n",
       "75%     4211.407838  \n",
       "max     8394.825600  "
      ]
     },
     "execution_count": 7,
     "metadata": {},
     "output_type": "execute_result"
    }
   ],
   "source": [
    "#describing the numerical values in statistical method\n",
    "df.describe()"
   ]
  },
  {
   "cell_type": "code",
   "execution_count": 8,
   "id": "98a4f4f1",
   "metadata": {
    "execution": {
     "iopub.execute_input": "2024-10-03T16:06:46.937781Z",
     "iopub.status.busy": "2024-10-03T16:06:46.936829Z",
     "iopub.status.idle": "2024-10-03T16:06:47.018960Z",
     "shell.execute_reply": "2024-10-03T16:06:47.017387Z"
    },
    "papermill": {
     "duration": 0.105148,
     "end_time": "2024-10-03T16:06:47.021970",
     "exception": false,
     "start_time": "2024-10-03T16:06:46.916822",
     "status": "completed"
    },
    "tags": []
   },
   "outputs": [
    {
     "data": {
      "text/plain": [
       "CID                      29071\n",
       "TID                      55000\n",
       "Gender                       3\n",
       "Age Group                    5\n",
       "Purchase Date            54988\n",
       "Product Category             9\n",
       "Discount Availed             2\n",
       "Discount Name                5\n",
       "Discount Amount (INR)    20578\n",
       "Gross Amount             54807\n",
       "Net Amount               54936\n",
       "Purchase Method              8\n",
       "Location                    14\n",
       "dtype: int64"
      ]
     },
     "execution_count": 8,
     "metadata": {},
     "output_type": "execute_result"
    }
   ],
   "source": [
    "#unique values in dataframe\n",
    "df.nunique()"
   ]
  },
  {
   "cell_type": "code",
   "execution_count": 9,
   "id": "1244e8ca",
   "metadata": {
    "execution": {
     "iopub.execute_input": "2024-10-03T16:06:47.060455Z",
     "iopub.status.busy": "2024-10-03T16:06:47.059985Z",
     "iopub.status.idle": "2024-10-03T16:06:47.115705Z",
     "shell.execute_reply": "2024-10-03T16:06:47.114400Z"
    },
    "papermill": {
     "duration": 0.078631,
     "end_time": "2024-10-03T16:06:47.118367",
     "exception": false,
     "start_time": "2024-10-03T16:06:47.039736",
     "status": "completed"
    },
    "tags": []
   },
   "outputs": [
    {
     "data": {
      "text/plain": [
       "CID                          0\n",
       "TID                          0\n",
       "Gender                       0\n",
       "Age Group                    0\n",
       "Purchase Date                0\n",
       "Product Category             0\n",
       "Discount Availed             0\n",
       "Discount Name            27585\n",
       "Discount Amount (INR)        0\n",
       "Gross Amount                 0\n",
       "Net Amount                   0\n",
       "Purchase Method              0\n",
       "Location                     0\n",
       "dtype: int64"
      ]
     },
     "execution_count": 9,
     "metadata": {},
     "output_type": "execute_result"
    }
   ],
   "source": [
    "#null values in the dataframe\n",
    "df.isnull().sum()"
   ]
  },
  {
   "cell_type": "code",
   "execution_count": 10,
   "id": "b03e6234",
   "metadata": {
    "execution": {
     "iopub.execute_input": "2024-10-03T16:06:47.155746Z",
     "iopub.status.busy": "2024-10-03T16:06:47.155306Z",
     "iopub.status.idle": "2024-10-03T16:06:47.171863Z",
     "shell.execute_reply": "2024-10-03T16:06:47.170109Z"
    },
    "papermill": {
     "duration": 0.039055,
     "end_time": "2024-10-03T16:06:47.174968",
     "exception": false,
     "start_time": "2024-10-03T16:06:47.135913",
     "status": "completed"
    },
    "tags": []
   },
   "outputs": [
    {
     "data": {
      "text/plain": [
       "TID\n",
       "False    55000\n",
       "Name: count, dtype: int64"
      ]
     },
     "execution_count": 10,
     "metadata": {},
     "output_type": "execute_result"
    }
   ],
   "source": [
    "#duplicate values in the dataframe\n",
    "df[\"TID\"].duplicated().value_counts()"
   ]
  },
  {
   "cell_type": "markdown",
   "id": "60d81f20",
   "metadata": {
    "papermill": {
     "duration": 0.018031,
     "end_time": "2024-10-03T16:06:47.211914",
     "exception": false,
     "start_time": "2024-10-03T16:06:47.193883",
     "status": "completed"
    },
    "tags": []
   },
   "source": [
    "### Explorotary Data Analysis"
   ]
  },
  {
   "cell_type": "markdown",
   "id": "05e74733",
   "metadata": {
    "papermill": {
     "duration": 0.019032,
     "end_time": "2024-10-03T16:06:47.250578",
     "exception": false,
     "start_time": "2024-10-03T16:06:47.231546",
     "status": "completed"
    },
    "tags": []
   },
   "source": [
    "data cleaning and taking insights process\n",
    "- [x] filling the null values\n",
    "- [x] converting data types\n",
    "- [x] renaming the columns\n",
    "- [x] solving the buisness problems\n",
    "- [x] giving solutions \n",
    "- [x] visualistion of the insights"
   ]
  },
  {
   "cell_type": "markdown",
   "id": "ef48403c",
   "metadata": {
    "papermill": {
     "duration": 0.020173,
     "end_time": "2024-10-03T16:06:47.289499",
     "exception": false,
     "start_time": "2024-10-03T16:06:47.269326",
     "status": "completed"
    },
    "tags": []
   },
   "source": [
    "filling null values in data frame"
   ]
  },
  {
   "cell_type": "code",
   "execution_count": 11,
   "id": "3c4053ac",
   "metadata": {
    "execution": {
     "iopub.execute_input": "2024-10-03T16:06:47.329110Z",
     "iopub.status.busy": "2024-10-03T16:06:47.328668Z",
     "iopub.status.idle": "2024-10-03T16:06:47.387501Z",
     "shell.execute_reply": "2024-10-03T16:06:47.386102Z"
    },
    "papermill": {
     "duration": 0.081455,
     "end_time": "2024-10-03T16:06:47.390298",
     "exception": false,
     "start_time": "2024-10-03T16:06:47.308843",
     "status": "completed"
    },
    "tags": []
   },
   "outputs": [
    {
     "data": {
      "text/plain": [
       "CID                          0\n",
       "TID                          0\n",
       "Gender                       0\n",
       "Age Group                    0\n",
       "Purchase Date                0\n",
       "Product Category             0\n",
       "Discount Availed             0\n",
       "Discount Name            27585\n",
       "Discount Amount (INR)        0\n",
       "Gross Amount                 0\n",
       "Net Amount                   0\n",
       "Purchase Method              0\n",
       "Location                     0\n",
       "dtype: int64"
      ]
     },
     "execution_count": 11,
     "metadata": {},
     "output_type": "execute_result"
    }
   ],
   "source": [
    "#null values in the dataframe\n",
    "df.isnull().sum()"
   ]
  },
  {
   "cell_type": "code",
   "execution_count": 12,
   "id": "e2cfd3d7",
   "metadata": {
    "execution": {
     "iopub.execute_input": "2024-10-03T16:06:47.430894Z",
     "iopub.status.busy": "2024-10-03T16:06:47.429925Z",
     "iopub.status.idle": "2024-10-03T16:06:47.458692Z",
     "shell.execute_reply": "2024-10-03T16:06:47.457412Z"
    },
    "papermill": {
     "duration": 0.052869,
     "end_time": "2024-10-03T16:06:47.462129",
     "exception": false,
     "start_time": "2024-10-03T16:06:47.409260",
     "status": "completed"
    },
    "tags": []
   },
   "outputs": [],
   "source": [
    "#filing the null values in the dataframe\n",
    "df.update(df['Discount Name'].fillna('Not Availabel'))"
   ]
  },
  {
   "cell_type": "code",
   "execution_count": 13,
   "id": "947fb309",
   "metadata": {
    "execution": {
     "iopub.execute_input": "2024-10-03T16:06:47.501466Z",
     "iopub.status.busy": "2024-10-03T16:06:47.500920Z",
     "iopub.status.idle": "2024-10-03T16:06:47.560959Z",
     "shell.execute_reply": "2024-10-03T16:06:47.559694Z"
    },
    "papermill": {
     "duration": 0.083437,
     "end_time": "2024-10-03T16:06:47.564329",
     "exception": false,
     "start_time": "2024-10-03T16:06:47.480892",
     "status": "completed"
    },
    "tags": []
   },
   "outputs": [
    {
     "data": {
      "text/plain": [
       "CID                      0\n",
       "TID                      0\n",
       "Gender                   0\n",
       "Age Group                0\n",
       "Purchase Date            0\n",
       "Product Category         0\n",
       "Discount Availed         0\n",
       "Discount Name            0\n",
       "Discount Amount (INR)    0\n",
       "Gross Amount             0\n",
       "Net Amount               0\n",
       "Purchase Method          0\n",
       "Location                 0\n",
       "dtype: int64"
      ]
     },
     "execution_count": 13,
     "metadata": {},
     "output_type": "execute_result"
    }
   ],
   "source": [
    "#checking null values in the dataframe \n",
    "df.isnull().sum()"
   ]
  },
  {
   "cell_type": "code",
   "execution_count": 14,
   "id": "1f4fa703",
   "metadata": {
    "execution": {
     "iopub.execute_input": "2024-10-03T16:06:47.605490Z",
     "iopub.status.busy": "2024-10-03T16:06:47.605077Z",
     "iopub.status.idle": "2024-10-03T16:06:47.626248Z",
     "shell.execute_reply": "2024-10-03T16:06:47.625028Z"
    },
    "papermill": {
     "duration": 0.045465,
     "end_time": "2024-10-03T16:06:47.629146",
     "exception": false,
     "start_time": "2024-10-03T16:06:47.583681",
     "status": "completed"
    },
    "tags": []
   },
   "outputs": [
    {
     "data": {
      "text/html": [
       "<div>\n",
       "<style scoped>\n",
       "    .dataframe tbody tr th:only-of-type {\n",
       "        vertical-align: middle;\n",
       "    }\n",
       "\n",
       "    .dataframe tbody tr th {\n",
       "        vertical-align: top;\n",
       "    }\n",
       "\n",
       "    .dataframe thead th {\n",
       "        text-align: right;\n",
       "    }\n",
       "</style>\n",
       "<table border=\"1\" class=\"dataframe\">\n",
       "  <thead>\n",
       "    <tr style=\"text-align: right;\">\n",
       "      <th></th>\n",
       "      <th>CID</th>\n",
       "      <th>TID</th>\n",
       "      <th>Gender</th>\n",
       "      <th>Age Group</th>\n",
       "      <th>Purchase Date</th>\n",
       "      <th>Product Category</th>\n",
       "      <th>Discount Availed</th>\n",
       "      <th>Discount Name</th>\n",
       "      <th>Discount Amount (INR)</th>\n",
       "      <th>Gross Amount</th>\n",
       "      <th>Net Amount</th>\n",
       "      <th>Purchase Method</th>\n",
       "      <th>Location</th>\n",
       "    </tr>\n",
       "  </thead>\n",
       "  <tbody>\n",
       "    <tr>\n",
       "      <th>0</th>\n",
       "      <td>943146</td>\n",
       "      <td>5876328741</td>\n",
       "      <td>Female</td>\n",
       "      <td>25-45</td>\n",
       "      <td>30/08/2023 20:27:08</td>\n",
       "      <td>Electronics</td>\n",
       "      <td>Yes</td>\n",
       "      <td>FESTIVE50</td>\n",
       "      <td>64.30</td>\n",
       "      <td>725.304000</td>\n",
       "      <td>661.004000</td>\n",
       "      <td>Credit Card</td>\n",
       "      <td>Ahmedabad</td>\n",
       "    </tr>\n",
       "    <tr>\n",
       "      <th>1</th>\n",
       "      <td>180079</td>\n",
       "      <td>1018503182</td>\n",
       "      <td>Male</td>\n",
       "      <td>25-45</td>\n",
       "      <td>23/02/2024 09:33:46</td>\n",
       "      <td>Electronics</td>\n",
       "      <td>Yes</td>\n",
       "      <td>SEASONALOFFER21</td>\n",
       "      <td>175.19</td>\n",
       "      <td>4638.991875</td>\n",
       "      <td>4463.801875</td>\n",
       "      <td>Credit Card</td>\n",
       "      <td>Bangalore</td>\n",
       "    </tr>\n",
       "    <tr>\n",
       "      <th>2</th>\n",
       "      <td>337580</td>\n",
       "      <td>3814082218</td>\n",
       "      <td>Other</td>\n",
       "      <td>60 and above</td>\n",
       "      <td>06/03/2022 09:09:50</td>\n",
       "      <td>Clothing</td>\n",
       "      <td>Yes</td>\n",
       "      <td>SEASONALOFFER21</td>\n",
       "      <td>211.54</td>\n",
       "      <td>1986.372575</td>\n",
       "      <td>1774.832575</td>\n",
       "      <td>Credit Card</td>\n",
       "      <td>Delhi</td>\n",
       "    </tr>\n",
       "    <tr>\n",
       "      <th>3</th>\n",
       "      <td>180333</td>\n",
       "      <td>1395204173</td>\n",
       "      <td>Other</td>\n",
       "      <td>60 and above</td>\n",
       "      <td>04/11/2020 04:41:57</td>\n",
       "      <td>Sports &amp; Fitness</td>\n",
       "      <td>No</td>\n",
       "      <td>Not Availabel</td>\n",
       "      <td>0.00</td>\n",
       "      <td>5695.612650</td>\n",
       "      <td>5695.612650</td>\n",
       "      <td>Debit Card</td>\n",
       "      <td>Delhi</td>\n",
       "    </tr>\n",
       "    <tr>\n",
       "      <th>4</th>\n",
       "      <td>447553</td>\n",
       "      <td>8009390577</td>\n",
       "      <td>Male</td>\n",
       "      <td>18-25</td>\n",
       "      <td>31/05/2022 17:00:32</td>\n",
       "      <td>Sports &amp; Fitness</td>\n",
       "      <td>Yes</td>\n",
       "      <td>WELCOME5</td>\n",
       "      <td>439.92</td>\n",
       "      <td>2292.651500</td>\n",
       "      <td>1852.731500</td>\n",
       "      <td>Credit Card</td>\n",
       "      <td>Delhi</td>\n",
       "    </tr>\n",
       "  </tbody>\n",
       "</table>\n",
       "</div>"
      ],
      "text/plain": [
       "      CID         TID  Gender     Age Group        Purchase Date  \\\n",
       "0  943146  5876328741  Female         25-45  30/08/2023 20:27:08   \n",
       "1  180079  1018503182    Male         25-45  23/02/2024 09:33:46   \n",
       "2  337580  3814082218   Other  60 and above  06/03/2022 09:09:50   \n",
       "3  180333  1395204173   Other  60 and above  04/11/2020 04:41:57   \n",
       "4  447553  8009390577    Male         18-25  31/05/2022 17:00:32   \n",
       "\n",
       "   Product Category Discount Availed    Discount Name  Discount Amount (INR)  \\\n",
       "0       Electronics              Yes        FESTIVE50                  64.30   \n",
       "1       Electronics              Yes  SEASONALOFFER21                 175.19   \n",
       "2          Clothing              Yes  SEASONALOFFER21                 211.54   \n",
       "3  Sports & Fitness               No    Not Availabel                   0.00   \n",
       "4  Sports & Fitness              Yes         WELCOME5                 439.92   \n",
       "\n",
       "   Gross Amount   Net Amount Purchase Method   Location  \n",
       "0    725.304000   661.004000     Credit Card  Ahmedabad  \n",
       "1   4638.991875  4463.801875     Credit Card  Bangalore  \n",
       "2   1986.372575  1774.832575     Credit Card      Delhi  \n",
       "3   5695.612650  5695.612650      Debit Card      Delhi  \n",
       "4   2292.651500  1852.731500     Credit Card      Delhi  "
      ]
     },
     "execution_count": 14,
     "metadata": {},
     "output_type": "execute_result"
    }
   ],
   "source": [
    "df.head()"
   ]
  },
  {
   "cell_type": "code",
   "execution_count": 15,
   "id": "31c70d8a",
   "metadata": {
    "execution": {
     "iopub.execute_input": "2024-10-03T16:06:47.670923Z",
     "iopub.status.busy": "2024-10-03T16:06:47.669486Z",
     "iopub.status.idle": "2024-10-03T16:06:47.738083Z",
     "shell.execute_reply": "2024-10-03T16:06:47.736593Z"
    },
    "papermill": {
     "duration": 0.092948,
     "end_time": "2024-10-03T16:06:47.741216",
     "exception": false,
     "start_time": "2024-10-03T16:06:47.648268",
     "status": "completed"
    },
    "tags": []
   },
   "outputs": [
    {
     "name": "stdout",
     "output_type": "stream",
     "text": [
      "<class 'pandas.core.frame.DataFrame'>\n",
      "RangeIndex: 55000 entries, 0 to 54999\n",
      "Data columns (total 13 columns):\n",
      " #   Column                 Non-Null Count  Dtype  \n",
      "---  ------                 --------------  -----  \n",
      " 0   CID                    55000 non-null  int64  \n",
      " 1   TID                    55000 non-null  int64  \n",
      " 2   Gender                 55000 non-null  object \n",
      " 3   Age Group              55000 non-null  object \n",
      " 4   Purchase Date          55000 non-null  object \n",
      " 5   Product Category       55000 non-null  object \n",
      " 6   Discount Availed       55000 non-null  object \n",
      " 7   Discount Name          55000 non-null  object \n",
      " 8   Discount Amount (INR)  55000 non-null  float64\n",
      " 9   Gross Amount           55000 non-null  float64\n",
      " 10  Net Amount             55000 non-null  float64\n",
      " 11  Purchase Method        55000 non-null  object \n",
      " 12  Location               55000 non-null  object \n",
      "dtypes: float64(3), int64(2), object(8)\n",
      "memory usage: 5.5+ MB\n"
     ]
    }
   ],
   "source": [
    "# info about the datatypes in dataframe\n",
    "df.info()"
   ]
  },
  {
   "cell_type": "code",
   "execution_count": 16,
   "id": "1758bb81",
   "metadata": {
    "execution": {
     "iopub.execute_input": "2024-10-03T16:06:47.783763Z",
     "iopub.status.busy": "2024-10-03T16:06:47.783187Z",
     "iopub.status.idle": "2024-10-03T16:06:48.147531Z",
     "shell.execute_reply": "2024-10-03T16:06:48.146333Z"
    },
    "papermill": {
     "duration": 0.389215,
     "end_time": "2024-10-03T16:06:48.150342",
     "exception": false,
     "start_time": "2024-10-03T16:06:47.761127",
     "status": "completed"
    },
    "tags": []
   },
   "outputs": [],
   "source": [
    "#converting Purchase date to date time Dtype\n",
    "df['Purchase Date'] = pd.to_datetime(df['Purchase Date'], format='%d/%m/%Y %H:%M:%S')"
   ]
  },
  {
   "cell_type": "code",
   "execution_count": 17,
   "id": "df491122",
   "metadata": {
    "execution": {
     "iopub.execute_input": "2024-10-03T16:06:48.190793Z",
     "iopub.status.busy": "2024-10-03T16:06:48.190340Z",
     "iopub.status.idle": "2024-10-03T16:06:48.202202Z",
     "shell.execute_reply": "2024-10-03T16:06:48.200829Z"
    },
    "papermill": {
     "duration": 0.035521,
     "end_time": "2024-10-03T16:06:48.205180",
     "exception": false,
     "start_time": "2024-10-03T16:06:48.169659",
     "status": "completed"
    },
    "tags": []
   },
   "outputs": [
    {
     "name": "stdout",
     "output_type": "stream",
     "text": [
      "<class 'pandas.core.series.Series'>\n",
      "RangeIndex: 55000 entries, 0 to 54999\n",
      "Series name: Purchase Date\n",
      "Non-Null Count  Dtype         \n",
      "--------------  -----         \n",
      "55000 non-null  datetime64[ns]\n",
      "dtypes: datetime64[ns](1)\n",
      "memory usage: 429.8 KB\n"
     ]
    }
   ],
   "source": [
    "#after convertion of datatypes\n",
    "df[\"Purchase Date\"].info()"
   ]
  },
  {
   "cell_type": "markdown",
   "id": "9eb04d2e",
   "metadata": {
    "papermill": {
     "duration": 0.018567,
     "end_time": "2024-10-03T16:06:48.242856",
     "exception": false,
     "start_time": "2024-10-03T16:06:48.224289",
     "status": "completed"
    },
    "tags": []
   },
   "source": [
    "convertion is done\n"
   ]
  },
  {
   "cell_type": "markdown",
   "id": "857a8ac3",
   "metadata": {
    "papermill": {
     "duration": 0.020208,
     "end_time": "2024-10-03T16:06:48.282349",
     "exception": false,
     "start_time": "2024-10-03T16:06:48.262141",
     "status": "completed"
    },
    "tags": []
   },
   "source": [
    "data cleaning process is done"
   ]
  },
  {
   "cell_type": "markdown",
   "id": "4e45f2e4",
   "metadata": {
    "papermill": {
     "duration": 0.01934,
     "end_time": "2024-10-03T16:06:48.321240",
     "exception": false,
     "start_time": "2024-10-03T16:06:48.301900",
     "status": "completed"
    },
    "tags": []
   },
   "source": [
    "### Renaming columns"
   ]
  },
  {
   "cell_type": "code",
   "execution_count": 18,
   "id": "0b6a8fad",
   "metadata": {
    "execution": {
     "iopub.execute_input": "2024-10-03T16:06:48.364210Z",
     "iopub.status.busy": "2024-10-03T16:06:48.363032Z",
     "iopub.status.idle": "2024-10-03T16:06:48.371658Z",
     "shell.execute_reply": "2024-10-03T16:06:48.370460Z"
    },
    "papermill": {
     "duration": 0.03394,
     "end_time": "2024-10-03T16:06:48.374543",
     "exception": false,
     "start_time": "2024-10-03T16:06:48.340603",
     "status": "completed"
    },
    "tags": []
   },
   "outputs": [
    {
     "data": {
      "text/plain": [
       "Index(['CID', 'TID', 'Gender', 'Age Group', 'Purchase Date',\n",
       "       'Product Category', 'Discount Availed', 'Discount Name',\n",
       "       'Discount Amount (INR)', 'Gross Amount', 'Net Amount',\n",
       "       'Purchase Method', 'Location'],\n",
       "      dtype='object')"
      ]
     },
     "execution_count": 18,
     "metadata": {},
     "output_type": "execute_result"
    }
   ],
   "source": [
    "#columns names\n",
    "df.columns"
   ]
  },
  {
   "cell_type": "code",
   "execution_count": 19,
   "id": "91bcbdad",
   "metadata": {
    "execution": {
     "iopub.execute_input": "2024-10-03T16:06:48.415188Z",
     "iopub.status.busy": "2024-10-03T16:06:48.414682Z",
     "iopub.status.idle": "2024-10-03T16:06:48.422381Z",
     "shell.execute_reply": "2024-10-03T16:06:48.420828Z"
    },
    "papermill": {
     "duration": 0.031345,
     "end_time": "2024-10-03T16:06:48.425120",
     "exception": false,
     "start_time": "2024-10-03T16:06:48.393775",
     "status": "completed"
    },
    "tags": []
   },
   "outputs": [],
   "source": [
    "\n",
    "#renaming the columns\n",
    "df.rename(columns={\"Age Group\":'Age_Group',\"Purchase Date\":\"Purchase_Date\",\"Product Category\":\"Product_Category\",\"Discount Availed\":\"Discount_Availed\",\"Discount Name\":\"Discount_Name\",\"Discount Amount (INR)\":\"Discount_Amount(INR)\",\"Gross Amount\":\"Gross_Amount\",\"Net Amount\":\"Net_Amount\",\"Purchase Method\":\"Purchase_Method\"},inplace=True)"
   ]
  },
  {
   "cell_type": "code",
   "execution_count": 20,
   "id": "13dd5707",
   "metadata": {
    "execution": {
     "iopub.execute_input": "2024-10-03T16:06:48.465926Z",
     "iopub.status.busy": "2024-10-03T16:06:48.465457Z",
     "iopub.status.idle": "2024-10-03T16:06:48.485743Z",
     "shell.execute_reply": "2024-10-03T16:06:48.484446Z"
    },
    "papermill": {
     "duration": 0.043283,
     "end_time": "2024-10-03T16:06:48.488402",
     "exception": false,
     "start_time": "2024-10-03T16:06:48.445119",
     "status": "completed"
    },
    "tags": []
   },
   "outputs": [
    {
     "data": {
      "text/html": [
       "<div>\n",
       "<style scoped>\n",
       "    .dataframe tbody tr th:only-of-type {\n",
       "        vertical-align: middle;\n",
       "    }\n",
       "\n",
       "    .dataframe tbody tr th {\n",
       "        vertical-align: top;\n",
       "    }\n",
       "\n",
       "    .dataframe thead th {\n",
       "        text-align: right;\n",
       "    }\n",
       "</style>\n",
       "<table border=\"1\" class=\"dataframe\">\n",
       "  <thead>\n",
       "    <tr style=\"text-align: right;\">\n",
       "      <th></th>\n",
       "      <th>CID</th>\n",
       "      <th>TID</th>\n",
       "      <th>Gender</th>\n",
       "      <th>Age_Group</th>\n",
       "      <th>Purchase_Date</th>\n",
       "      <th>Product_Category</th>\n",
       "      <th>Discount_Availed</th>\n",
       "      <th>Discount_Name</th>\n",
       "      <th>Discount_Amount(INR)</th>\n",
       "      <th>Gross_Amount</th>\n",
       "      <th>Net_Amount</th>\n",
       "      <th>Purchase_Method</th>\n",
       "      <th>Location</th>\n",
       "    </tr>\n",
       "  </thead>\n",
       "  <tbody>\n",
       "    <tr>\n",
       "      <th>0</th>\n",
       "      <td>943146</td>\n",
       "      <td>5876328741</td>\n",
       "      <td>Female</td>\n",
       "      <td>25-45</td>\n",
       "      <td>2023-08-30 20:27:08</td>\n",
       "      <td>Electronics</td>\n",
       "      <td>Yes</td>\n",
       "      <td>FESTIVE50</td>\n",
       "      <td>64.30</td>\n",
       "      <td>725.304000</td>\n",
       "      <td>661.004000</td>\n",
       "      <td>Credit Card</td>\n",
       "      <td>Ahmedabad</td>\n",
       "    </tr>\n",
       "    <tr>\n",
       "      <th>1</th>\n",
       "      <td>180079</td>\n",
       "      <td>1018503182</td>\n",
       "      <td>Male</td>\n",
       "      <td>25-45</td>\n",
       "      <td>2024-02-23 09:33:46</td>\n",
       "      <td>Electronics</td>\n",
       "      <td>Yes</td>\n",
       "      <td>SEASONALOFFER21</td>\n",
       "      <td>175.19</td>\n",
       "      <td>4638.991875</td>\n",
       "      <td>4463.801875</td>\n",
       "      <td>Credit Card</td>\n",
       "      <td>Bangalore</td>\n",
       "    </tr>\n",
       "    <tr>\n",
       "      <th>2</th>\n",
       "      <td>337580</td>\n",
       "      <td>3814082218</td>\n",
       "      <td>Other</td>\n",
       "      <td>60 and above</td>\n",
       "      <td>2022-03-06 09:09:50</td>\n",
       "      <td>Clothing</td>\n",
       "      <td>Yes</td>\n",
       "      <td>SEASONALOFFER21</td>\n",
       "      <td>211.54</td>\n",
       "      <td>1986.372575</td>\n",
       "      <td>1774.832575</td>\n",
       "      <td>Credit Card</td>\n",
       "      <td>Delhi</td>\n",
       "    </tr>\n",
       "    <tr>\n",
       "      <th>3</th>\n",
       "      <td>180333</td>\n",
       "      <td>1395204173</td>\n",
       "      <td>Other</td>\n",
       "      <td>60 and above</td>\n",
       "      <td>2020-11-04 04:41:57</td>\n",
       "      <td>Sports &amp; Fitness</td>\n",
       "      <td>No</td>\n",
       "      <td>Not Availabel</td>\n",
       "      <td>0.00</td>\n",
       "      <td>5695.612650</td>\n",
       "      <td>5695.612650</td>\n",
       "      <td>Debit Card</td>\n",
       "      <td>Delhi</td>\n",
       "    </tr>\n",
       "    <tr>\n",
       "      <th>4</th>\n",
       "      <td>447553</td>\n",
       "      <td>8009390577</td>\n",
       "      <td>Male</td>\n",
       "      <td>18-25</td>\n",
       "      <td>2022-05-31 17:00:32</td>\n",
       "      <td>Sports &amp; Fitness</td>\n",
       "      <td>Yes</td>\n",
       "      <td>WELCOME5</td>\n",
       "      <td>439.92</td>\n",
       "      <td>2292.651500</td>\n",
       "      <td>1852.731500</td>\n",
       "      <td>Credit Card</td>\n",
       "      <td>Delhi</td>\n",
       "    </tr>\n",
       "  </tbody>\n",
       "</table>\n",
       "</div>"
      ],
      "text/plain": [
       "      CID         TID  Gender     Age_Group       Purchase_Date  \\\n",
       "0  943146  5876328741  Female         25-45 2023-08-30 20:27:08   \n",
       "1  180079  1018503182    Male         25-45 2024-02-23 09:33:46   \n",
       "2  337580  3814082218   Other  60 and above 2022-03-06 09:09:50   \n",
       "3  180333  1395204173   Other  60 and above 2020-11-04 04:41:57   \n",
       "4  447553  8009390577    Male         18-25 2022-05-31 17:00:32   \n",
       "\n",
       "   Product_Category Discount_Availed    Discount_Name  Discount_Amount(INR)  \\\n",
       "0       Electronics              Yes        FESTIVE50                 64.30   \n",
       "1       Electronics              Yes  SEASONALOFFER21                175.19   \n",
       "2          Clothing              Yes  SEASONALOFFER21                211.54   \n",
       "3  Sports & Fitness               No    Not Availabel                  0.00   \n",
       "4  Sports & Fitness              Yes         WELCOME5                439.92   \n",
       "\n",
       "   Gross_Amount   Net_Amount Purchase_Method   Location  \n",
       "0    725.304000   661.004000     Credit Card  Ahmedabad  \n",
       "1   4638.991875  4463.801875     Credit Card  Bangalore  \n",
       "2   1986.372575  1774.832575     Credit Card      Delhi  \n",
       "3   5695.612650  5695.612650      Debit Card      Delhi  \n",
       "4   2292.651500  1852.731500     Credit Card      Delhi  "
      ]
     },
     "execution_count": 20,
     "metadata": {},
     "output_type": "execute_result"
    }
   ],
   "source": [
    "#overviewing the dataframe\n",
    "df.head()"
   ]
  },
  {
   "cell_type": "markdown",
   "id": "2449e4a6",
   "metadata": {
    "papermill": {
     "duration": 0.019507,
     "end_time": "2024-10-03T16:06:48.528039",
     "exception": false,
     "start_time": "2024-10-03T16:06:48.508532",
     "status": "completed"
    },
    "tags": []
   },
   "source": [
    "data cleaning process has been completed"
   ]
  },
  {
   "cell_type": "markdown",
   "id": "71de41e6",
   "metadata": {
    "papermill": {
     "duration": 0.018922,
     "end_time": "2024-10-03T16:06:48.567044",
     "exception": false,
     "start_time": "2024-10-03T16:06:48.548122",
     "status": "completed"
    },
    "tags": []
   },
   "source": [
    "## solving business problems"
   ]
  },
  {
   "cell_type": "markdown",
   "id": "ae53aa8c",
   "metadata": {
    "papermill": {
     "duration": 0.01958,
     "end_time": "2024-10-03T16:06:48.607932",
     "exception": false,
     "start_time": "2024-10-03T16:06:48.588352",
     "status": "completed"
    },
    "tags": []
   },
   "source": [
    "### 1.Calculate the average discount amount availed by each age group. Which age group tends to avail the highest discounts on average?"
   ]
  },
  {
   "cell_type": "code",
   "execution_count": 21,
   "id": "013ba8b4",
   "metadata": {
    "execution": {
     "iopub.execute_input": "2024-10-03T16:06:48.648758Z",
     "iopub.status.busy": "2024-10-03T16:06:48.648305Z",
     "iopub.status.idle": "2024-10-03T16:06:48.657184Z",
     "shell.execute_reply": "2024-10-03T16:06:48.656061Z"
    },
    "papermill": {
     "duration": 0.032513,
     "end_time": "2024-10-03T16:06:48.659791",
     "exception": false,
     "start_time": "2024-10-03T16:06:48.627278",
     "status": "completed"
    },
    "tags": []
   },
   "outputs": [
    {
     "data": {
      "text/plain": [
       "<pandas.core.groupby.generic.DataFrameGroupBy object at 0x7c8fb9e31d80>"
      ]
     },
     "execution_count": 21,
     "metadata": {},
     "output_type": "execute_result"
    }
   ],
   "source": [
    "\n",
    "#dataframe groupby age groups\n",
    "Age_Groups=df.groupby(\"Age_Group\")\n",
    "Age_Groups"
   ]
  },
  {
   "cell_type": "code",
   "execution_count": 22,
   "id": "217a811a",
   "metadata": {
    "execution": {
     "iopub.execute_input": "2024-10-03T16:06:48.700685Z",
     "iopub.status.busy": "2024-10-03T16:06:48.700173Z",
     "iopub.status.idle": "2024-10-03T16:06:48.718776Z",
     "shell.execute_reply": "2024-10-03T16:06:48.717604Z"
    },
    "papermill": {
     "duration": 0.04243,
     "end_time": "2024-10-03T16:06:48.721652",
     "exception": false,
     "start_time": "2024-10-03T16:06:48.679222",
     "status": "completed"
    },
    "tags": []
   },
   "outputs": [
    {
     "data": {
      "text/plain": [
       "Age_Group\n",
       "18-25           2236376.03\n",
       "25-45           3001031.41\n",
       "45-60           1543804.15\n",
       "60 and above     373943.01\n",
       "under 18         379119.17\n",
       "Name: Discount_Amount(INR), dtype: float64"
      ]
     },
     "execution_count": 22,
     "metadata": {},
     "output_type": "execute_result"
    }
   ],
   "source": [
    "#sum of discount amount availed for each age group\n",
    "Age_Groups[\"Discount_Amount(INR)\"].sum()"
   ]
  },
  {
   "cell_type": "code",
   "execution_count": 23,
   "id": "e693a4dc",
   "metadata": {
    "execution": {
     "iopub.execute_input": "2024-10-03T16:06:48.764776Z",
     "iopub.status.busy": "2024-10-03T16:06:48.764308Z",
     "iopub.status.idle": "2024-10-03T16:06:48.777292Z",
     "shell.execute_reply": "2024-10-03T16:06:48.775460Z"
    },
    "papermill": {
     "duration": 0.038667,
     "end_time": "2024-10-03T16:06:48.780877",
     "exception": false,
     "start_time": "2024-10-03T16:06:48.742210",
     "status": "completed"
    },
    "tags": []
   },
   "outputs": [
    {
     "data": {
      "text/plain": [
       "Age_Group\n",
       "18-25           136.107116\n",
       "25-45           136.348542\n",
       "45-60           139.031354\n",
       "60 and above    139.323029\n",
       "under 18        136.816734\n",
       "Name: Discount_Amount(INR), dtype: float64"
      ]
     },
     "execution_count": 23,
     "metadata": {},
     "output_type": "execute_result"
    }
   ],
   "source": [
    "#average  discount amount availed for each age group\n",
    "average_discount=Age_Groups[\"Discount_Amount(INR)\"].mean()\n",
    "average_discount"
   ]
  },
  {
   "cell_type": "code",
   "execution_count": 24,
   "id": "6fc16ba6",
   "metadata": {
    "execution": {
     "iopub.execute_input": "2024-10-03T16:06:48.824897Z",
     "iopub.status.busy": "2024-10-03T16:06:48.824447Z",
     "iopub.status.idle": "2024-10-03T16:06:48.832949Z",
     "shell.execute_reply": "2024-10-03T16:06:48.831732Z"
    },
    "papermill": {
     "duration": 0.033746,
     "end_time": "2024-10-03T16:06:48.835726",
     "exception": false,
     "start_time": "2024-10-03T16:06:48.801980",
     "status": "completed"
    },
    "tags": []
   },
   "outputs": [
    {
     "data": {
      "text/plain": [
       "139.32302906110283"
      ]
     },
     "execution_count": 24,
     "metadata": {},
     "output_type": "execute_result"
    }
   ],
   "source": [
    "#highest discount gained age group\n",
    "average_discount.max()"
   ]
  },
  {
   "cell_type": "code",
   "execution_count": 25,
   "id": "1e86479c",
   "metadata": {
    "execution": {
     "iopub.execute_input": "2024-10-03T16:06:48.879101Z",
     "iopub.status.busy": "2024-10-03T16:06:48.878672Z",
     "iopub.status.idle": "2024-10-03T16:06:48.893359Z",
     "shell.execute_reply": "2024-10-03T16:06:48.891971Z"
    },
    "papermill": {
     "duration": 0.040251,
     "end_time": "2024-10-03T16:06:48.896199",
     "exception": false,
     "start_time": "2024-10-03T16:06:48.855948",
     "status": "completed"
    },
    "tags": []
   },
   "outputs": [
    {
     "data": {
      "text/plain": [
       "0           25-45\n",
       "1    60 and above\n",
       "2           18-25\n",
       "3           45-60\n",
       "4        under 18\n",
       "dtype: object"
      ]
     },
     "execution_count": 25,
     "metadata": {},
     "output_type": "execute_result"
    }
   ],
   "source": [
    "#unique values in the dataframe\n",
    "Age_groups=pd.Series(df[\"Age_Group\"].unique())\n",
    "Age_groups"
   ]
  },
  {
   "cell_type": "code",
   "execution_count": 26,
   "id": "6b684fb4",
   "metadata": {
    "execution": {
     "iopub.execute_input": "2024-10-03T16:06:48.943700Z",
     "iopub.status.busy": "2024-10-03T16:06:48.942337Z",
     "iopub.status.idle": "2024-10-03T16:06:48.955058Z",
     "shell.execute_reply": "2024-10-03T16:06:48.952847Z"
    },
    "papermill": {
     "duration": 0.042019,
     "end_time": "2024-10-03T16:06:48.958751",
     "exception": false,
     "start_time": "2024-10-03T16:06:48.916732",
     "status": "completed"
    },
    "tags": []
   },
   "outputs": [
    {
     "data": {
      "text/plain": [
       "18-25           NaN\n",
       "25-45           NaN\n",
       "45-60           NaN\n",
       "60 and above    NaN\n",
       "under 18        NaN\n",
       "dtype: object"
      ]
     },
     "execution_count": 26,
     "metadata": {},
     "output_type": "execute_result"
    }
   ],
   "source": [
    "#rearranging the age groups \n",
    "age_order = [ '18-25', '25-45', '45-60', '60 and above','under 18']\n",
    "\n",
    "# Reindex to your custom order\n",
    "age_groups = Age_groups.reindex(age_order)\n",
    "age_groups"
   ]
  },
  {
   "cell_type": "code",
   "execution_count": 27,
   "id": "98ee5172",
   "metadata": {
    "execution": {
     "iopub.execute_input": "2024-10-03T16:06:49.016224Z",
     "iopub.status.busy": "2024-10-03T16:06:49.014634Z",
     "iopub.status.idle": "2024-10-03T16:06:49.574824Z",
     "shell.execute_reply": "2024-10-03T16:06:49.573591Z"
    },
    "papermill": {
     "duration": 0.592702,
     "end_time": "2024-10-03T16:06:49.577572",
     "exception": false,
     "start_time": "2024-10-03T16:06:48.984870",
     "status": "completed"
    },
    "tags": []
   },
   "outputs": [
    {
     "data": {
      "image/png": "[encoded data removed]",
      "text/plain": [
       "<Figure size 640x480 with 1 Axes>"
      ]
     },
     "metadata": {},
     "output_type": "display_data"
    }
   ],
   "source": [
    "#plotting the average discount given for different age groups\n",
    "plt.bar(age_groups.index,average_discount,color='skyblue')\n",
    "plt.xlabel('Age Group')\n",
    "plt.ylabel('Average Value')\n",
    "plt.title('Average Discount availed for different Age Group')\n",
    "plt.xticks(rotation=45)  # Rotate labels for better visibility\n",
    "plt.tight_layout()  # Adjust layout for better fitting\n",
    "for index, value in enumerate(average_discount.values):\n",
    "    plt.text(index, value, f'{value:.2f}', ha='center', va='bottom')  # Value formatting\n",
    "plt.savefig(\"discount.png\")\n",
    "\n",
    "plt.show()"
   ]
  },
  {
   "cell_type": "markdown",
   "id": "2b84bd4b",
   "metadata": {
    "papermill": {
     "duration": 0.021072,
     "end_time": "2024-10-03T16:06:49.619911",
     "exception": false,
     "start_time": "2024-10-03T16:06:49.598839",
     "status": "completed"
    },
    "tags": []
   },
   "source": [
    "analysis of discount is completed"
   ]
  },
  {
   "cell_type": "markdown",
   "id": "5d3f2621",
   "metadata": {
    "execution": {
     "iopub.execute_input": "2024-10-01T09:22:00.002182Z",
     "iopub.status.busy": "2024-10-01T09:22:00.001308Z",
     "iopub.status.idle": "2024-10-01T09:22:00.075063Z",
     "shell.execute_reply": "2024-10-01T09:22:00.070536Z",
     "shell.execute_reply.started": "2024-10-01T09:22:00.002082Z"
    },
    "papermill": {
     "duration": 0.029444,
     "end_time": "2024-10-03T16:06:49.676310",
     "exception": false,
     "start_time": "2024-10-03T16:06:49.646866",
     "status": "completed"
    },
    "tags": []
   },
   "source": [
    "### How many unique product categories are present in the dataset? Which category has the highest total sales?"
   ]
  },
  {
   "cell_type": "code",
   "execution_count": 28,
   "id": "ad7aa40a",
   "metadata": {
    "execution": {
     "iopub.execute_input": "2024-10-03T16:06:49.730456Z",
     "iopub.status.busy": "2024-10-03T16:06:49.730041Z",
     "iopub.status.idle": "2024-10-03T16:06:49.746407Z",
     "shell.execute_reply": "2024-10-03T16:06:49.745003Z"
    },
    "papermill": {
     "duration": 0.043804,
     "end_time": "2024-10-03T16:06:49.748976",
     "exception": false,
     "start_time": "2024-10-03T16:06:49.705172",
     "status": "completed"
    },
    "tags": []
   },
   "outputs": [
    {
     "name": "stdout",
     "output_type": "stream",
     "text": [
      "[('Beauty and Health', 25320129.06185), ('Books', 8312144.3025), ('Clothing', 32732062.432325), ('Electronics', 49743506.505875), ('Home & Kitchen', 16653800.54955), ('Other', 6512450.4644), ('Pet Care', 4854486.13375), ('Sports & Fitness', 16892820.738225), ('Toys & Games', 4690113.1400500005)]\n"
     ]
    }
   ],
   "source": [
    "#unique products category in the dataframe\n",
    "products = df.groupby('Product_Category')['Gross_Amount'].sum().reset_index()\n",
    "\n",
    "# If you want to convert it into a list of tuples\n",
    "product_list = list(zip(products['Product_Category'], products['Gross_Amount']))\n",
    "print(product_list)"
   ]
  },
  {
   "cell_type": "code",
   "execution_count": 29,
   "id": "9c92b464",
   "metadata": {
    "execution": {
     "iopub.execute_input": "2024-10-03T16:06:49.793246Z",
     "iopub.status.busy": "2024-10-03T16:06:49.792784Z",
     "iopub.status.idle": "2024-10-03T16:06:49.811294Z",
     "shell.execute_reply": "2024-10-03T16:06:49.810077Z"
    },
    "papermill": {
     "duration": 0.04419,
     "end_time": "2024-10-03T16:06:49.814141",
     "exception": false,
     "start_time": "2024-10-03T16:06:49.769951",
     "status": "completed"
    },
    "tags": []
   },
   "outputs": [
    {
     "data": {
      "text/plain": [
       "Product_Category\n",
       "Beauty and Health    2.532013e+07\n",
       "Books                8.312144e+06\n",
       "Clothing             3.273206e+07\n",
       "Electronics          4.974351e+07\n",
       "Home & Kitchen       1.665380e+07\n",
       "Other                6.512450e+06\n",
       "Pet Care             4.854486e+06\n",
       "Sports & Fitness     1.689282e+07\n",
       "Toys & Games         4.690113e+06\n",
       "Name: Gross_Amount, dtype: float64"
      ]
     },
     "execution_count": 29,
     "metadata": {},
     "output_type": "execute_result"
    }
   ],
   "source": [
    "#sum of sales in each category\n",
    "product_sale=df.groupby(\"Product_Category\") \n",
    "product_sale[\"Gross_Amount\"].sum()"
   ]
  },
  {
   "cell_type": "code",
   "execution_count": 30,
   "id": "359e4880",
   "metadata": {
    "execution": {
     "iopub.execute_input": "2024-10-03T16:06:49.859004Z",
     "iopub.status.busy": "2024-10-03T16:06:49.858470Z",
     "iopub.status.idle": "2024-10-03T16:06:49.864813Z",
     "shell.execute_reply": "2024-10-03T16:06:49.863254Z"
    },
    "papermill": {
     "duration": 0.031736,
     "end_time": "2024-10-03T16:06:49.867609",
     "exception": false,
     "start_time": "2024-10-03T16:06:49.835873",
     "status": "completed"
    },
    "tags": []
   },
   "outputs": [],
   "source": [
    "#unzipping the items from the list\n",
    "product_categories, product_sales = zip(*product_list)"
   ]
  },
  {
   "cell_type": "code",
   "execution_count": 31,
   "id": "f78f3f6d",
   "metadata": {
    "execution": {
     "iopub.execute_input": "2024-10-03T16:06:49.912618Z",
     "iopub.status.busy": "2024-10-03T16:06:49.912167Z",
     "iopub.status.idle": "2024-10-03T16:06:50.471915Z",
     "shell.execute_reply": "2024-10-03T16:06:50.470576Z"
    },
    "papermill": {
     "duration": 0.585751,
     "end_time": "2024-10-03T16:06:50.474730",
     "exception": false,
     "start_time": "2024-10-03T16:06:49.888979",
     "status": "completed"
    },
    "tags": []
   },
   "outputs": [
    {
     "data": {
      "image/png": "[encoded data removed]",
      "text/plain": [
       "<Figure size 640x480 with 1 Axes>"
      ]
     },
     "metadata": {},
     "output_type": "display_data"
    }
   ],
   "source": [
    "#visualising the given insights\n",
    "plt.bar(product_categories,product_sales,color=\"red\")\n",
    "plt.title(\"Sales of each product category\")\n",
    "plt.xlabel(\"product category\")\n",
    "plt.ylabel(\"sales\")\n",
    "plt.xticks(rotation=90)\n",
    "plt.tight_layout()\n",
    "plt.savefig(\"category_sale.png\")\n",
    "plt.show()"
   ]
  },
  {
   "cell_type": "markdown",
   "id": "d0208ac2",
   "metadata": {
    "papermill": {
     "duration": 0.022565,
     "end_time": "2024-10-03T16:06:50.519913",
     "exception": false,
     "start_time": "2024-10-03T16:06:50.497348",
     "status": "completed"
    },
    "tags": []
   },
   "source": [
    "electronic category has the most number of sales"
   ]
  },
  {
   "cell_type": "markdown",
   "id": "8a1109af",
   "metadata": {
    "papermill": {
     "duration": 0.021859,
     "end_time": "2024-10-03T16:06:50.564034",
     "exception": false,
     "start_time": "2024-10-03T16:06:50.542175",
     "status": "completed"
    },
    "tags": []
   },
   "source": [
    "###  Analyze the dataset to find out which month had the highest number of purchases. You can derive this from the \"Purchase Date\" column.\n"
   ]
  },
  {
   "cell_type": "code",
   "execution_count": 32,
   "id": "b5b81267",
   "metadata": {
    "execution": {
     "iopub.execute_input": "2024-10-03T16:06:50.610359Z",
     "iopub.status.busy": "2024-10-03T16:06:50.609930Z",
     "iopub.status.idle": "2024-10-03T16:06:50.621847Z",
     "shell.execute_reply": "2024-10-03T16:06:50.620251Z"
    },
    "papermill": {
     "duration": 0.037746,
     "end_time": "2024-10-03T16:06:50.624524",
     "exception": false,
     "start_time": "2024-10-03T16:06:50.586778",
     "status": "completed"
    },
    "tags": []
   },
   "outputs": [
    {
     "name": "stdout",
     "output_type": "stream",
     "text": [
      "<class 'pandas.core.series.Series'>\n",
      "RangeIndex: 55000 entries, 0 to 54999\n",
      "Series name: Purchase_Date\n",
      "Non-Null Count  Dtype         \n",
      "--------------  -----         \n",
      "55000 non-null  datetime64[ns]\n",
      "dtypes: datetime64[ns](1)\n",
      "memory usage: 429.8 KB\n"
     ]
    }
   ],
   "source": [
    "df['Purchase_Date'].info()"
   ]
  },
  {
   "cell_type": "code",
   "execution_count": 33,
   "id": "751c2630",
   "metadata": {
    "execution": {
     "iopub.execute_input": "2024-10-03T16:06:50.670609Z",
     "iopub.status.busy": "2024-10-03T16:06:50.670154Z",
     "iopub.status.idle": "2024-10-03T16:06:51.163459Z",
     "shell.execute_reply": "2024-10-03T16:06:51.161973Z"
    },
    "papermill": {
     "duration": 0.519614,
     "end_time": "2024-10-03T16:06:51.166222",
     "exception": false,
     "start_time": "2024-10-03T16:06:50.646608",
     "status": "completed"
    },
    "tags": []
   },
   "outputs": [
    {
     "data": {
      "text/html": [
       "<div>\n",
       "<style scoped>\n",
       "    .dataframe tbody tr th:only-of-type {\n",
       "        vertical-align: middle;\n",
       "    }\n",
       "\n",
       "    .dataframe tbody tr th {\n",
       "        vertical-align: top;\n",
       "    }\n",
       "\n",
       "    .dataframe thead th {\n",
       "        text-align: right;\n",
       "    }\n",
       "</style>\n",
       "<table border=\"1\" class=\"dataframe\">\n",
       "  <thead>\n",
       "    <tr style=\"text-align: right;\">\n",
       "      <th></th>\n",
       "      <th>CID</th>\n",
       "      <th>TID</th>\n",
       "      <th>Gender</th>\n",
       "      <th>Age_Group</th>\n",
       "      <th>Purchase_Date</th>\n",
       "      <th>Product_Category</th>\n",
       "      <th>Discount_Availed</th>\n",
       "      <th>Discount_Name</th>\n",
       "      <th>Discount_Amount(INR)</th>\n",
       "      <th>Gross_Amount</th>\n",
       "      <th>Net_Amount</th>\n",
       "      <th>Purchase_Method</th>\n",
       "      <th>Location</th>\n",
       "      <th>Year_Month</th>\n",
       "    </tr>\n",
       "  </thead>\n",
       "  <tbody>\n",
       "    <tr>\n",
       "      <th>0</th>\n",
       "      <td>943146</td>\n",
       "      <td>5876328741</td>\n",
       "      <td>Female</td>\n",
       "      <td>25-45</td>\n",
       "      <td>2023-08-30 20:27:08</td>\n",
       "      <td>Electronics</td>\n",
       "      <td>Yes</td>\n",
       "      <td>FESTIVE50</td>\n",
       "      <td>64.30</td>\n",
       "      <td>725.304000</td>\n",
       "      <td>661.004000</td>\n",
       "      <td>Credit Card</td>\n",
       "      <td>Ahmedabad</td>\n",
       "      <td>2023-08</td>\n",
       "    </tr>\n",
       "    <tr>\n",
       "      <th>1</th>\n",
       "      <td>180079</td>\n",
       "      <td>1018503182</td>\n",
       "      <td>Male</td>\n",
       "      <td>25-45</td>\n",
       "      <td>2024-02-23 09:33:46</td>\n",
       "      <td>Electronics</td>\n",
       "      <td>Yes</td>\n",
       "      <td>SEASONALOFFER21</td>\n",
       "      <td>175.19</td>\n",
       "      <td>4638.991875</td>\n",
       "      <td>4463.801875</td>\n",
       "      <td>Credit Card</td>\n",
       "      <td>Bangalore</td>\n",
       "      <td>2024-02</td>\n",
       "    </tr>\n",
       "    <tr>\n",
       "      <th>2</th>\n",
       "      <td>337580</td>\n",
       "      <td>3814082218</td>\n",
       "      <td>Other</td>\n",
       "      <td>60 and above</td>\n",
       "      <td>2022-03-06 09:09:50</td>\n",
       "      <td>Clothing</td>\n",
       "      <td>Yes</td>\n",
       "      <td>SEASONALOFFER21</td>\n",
       "      <td>211.54</td>\n",
       "      <td>1986.372575</td>\n",
       "      <td>1774.832575</td>\n",
       "      <td>Credit Card</td>\n",
       "      <td>Delhi</td>\n",
       "      <td>2022-03</td>\n",
       "    </tr>\n",
       "    <tr>\n",
       "      <th>3</th>\n",
       "      <td>180333</td>\n",
       "      <td>1395204173</td>\n",
       "      <td>Other</td>\n",
       "      <td>60 and above</td>\n",
       "      <td>2020-11-04 04:41:57</td>\n",
       "      <td>Sports &amp; Fitness</td>\n",
       "      <td>No</td>\n",
       "      <td>Not Availabel</td>\n",
       "      <td>0.00</td>\n",
       "      <td>5695.612650</td>\n",
       "      <td>5695.612650</td>\n",
       "      <td>Debit Card</td>\n",
       "      <td>Delhi</td>\n",
       "      <td>2020-11</td>\n",
       "    </tr>\n",
       "    <tr>\n",
       "      <th>4</th>\n",
       "      <td>447553</td>\n",
       "      <td>8009390577</td>\n",
       "      <td>Male</td>\n",
       "      <td>18-25</td>\n",
       "      <td>2022-05-31 17:00:32</td>\n",
       "      <td>Sports &amp; Fitness</td>\n",
       "      <td>Yes</td>\n",
       "      <td>WELCOME5</td>\n",
       "      <td>439.92</td>\n",
       "      <td>2292.651500</td>\n",
       "      <td>1852.731500</td>\n",
       "      <td>Credit Card</td>\n",
       "      <td>Delhi</td>\n",
       "      <td>2022-05</td>\n",
       "    </tr>\n",
       "  </tbody>\n",
       "</table>\n",
       "</div>"
      ],
      "text/plain": [
       "      CID         TID  Gender     Age_Group       Purchase_Date  \\\n",
       "0  943146  5876328741  Female         25-45 2023-08-30 20:27:08   \n",
       "1  180079  1018503182    Male         25-45 2024-02-23 09:33:46   \n",
       "2  337580  3814082218   Other  60 and above 2022-03-06 09:09:50   \n",
       "3  180333  1395204173   Other  60 and above 2020-11-04 04:41:57   \n",
       "4  447553  8009390577    Male         18-25 2022-05-31 17:00:32   \n",
       "\n",
       "   Product_Category Discount_Availed    Discount_Name  Discount_Amount(INR)  \\\n",
       "0       Electronics              Yes        FESTIVE50                 64.30   \n",
       "1       Electronics              Yes  SEASONALOFFER21                175.19   \n",
       "2          Clothing              Yes  SEASONALOFFER21                211.54   \n",
       "3  Sports & Fitness               No    Not Availabel                  0.00   \n",
       "4  Sports & Fitness              Yes         WELCOME5                439.92   \n",
       "\n",
       "   Gross_Amount   Net_Amount Purchase_Method   Location Year_Month  \n",
       "0    725.304000   661.004000     Credit Card  Ahmedabad    2023-08  \n",
       "1   4638.991875  4463.801875     Credit Card  Bangalore    2024-02  \n",
       "2   1986.372575  1774.832575     Credit Card      Delhi    2022-03  \n",
       "3   5695.612650  5695.612650      Debit Card      Delhi    2020-11  \n",
       "4   2292.651500  1852.731500     Credit Card      Delhi    2022-05  "
      ]
     },
     "execution_count": 33,
     "metadata": {},
     "output_type": "execute_result"
    }
   ],
   "source": [
    "df[\"Year_Month\"] = df[\"Purchase_Date\"].dt.strftime('%Y-%m')\n",
    "df.head()"
   ]
  },
  {
   "cell_type": "code",
   "execution_count": 34,
   "id": "a7217f35",
   "metadata": {
    "execution": {
     "iopub.execute_input": "2024-10-03T16:06:51.217441Z",
     "iopub.status.busy": "2024-10-03T16:06:51.216925Z",
     "iopub.status.idle": "2024-10-03T16:06:51.233939Z",
     "shell.execute_reply": "2024-10-03T16:06:51.232656Z"
    },
    "papermill": {
     "duration": 0.046771,
     "end_time": "2024-10-03T16:06:51.236949",
     "exception": false,
     "start_time": "2024-10-03T16:06:51.190178",
     "status": "completed"
    },
    "tags": []
   },
   "outputs": [
    {
     "name": "stdout",
     "output_type": "stream",
     "text": [
      "[('2019-09', 965841.3555000001), ('2019-10', 2835665.426), ('2019-11', 2829231.613), ('2019-12', 3331587.812), ('2020-01', 2221774.42725), ('2020-02', 1945539.035475), ('2020-03', 2555990.62845), ('2020-04', 2532067.0095), ('2020-05', 2546505.1395), ('2020-06', 2161734.72165), ('2020-07', 2183681.3449500003), ('2020-08', 2562079.989), ('2020-09', 2656298.7281250004), ('2020-10', 2669480.13255), ('2020-11', 3323990.7382500004), ('2020-12', 3518062.7558999998), ('2021-01', 2458120.8267), ('2021-02', 2106781.3448), ('2021-03', 2467594.5107), ('2021-04', 2618755.821), ('2021-05', 2565859.219), ('2021-06', 2332606.2210000004), ('2021-07', 2438668.9503), ('2021-08', 2530033.781), ('2021-09', 2662746.6558000003), ('2021-10', 2967275.3891000003), ('2021-11', 3204450.3062000005), ('2021-12', 3844990.3030000003), ('2022-01', 2621047.9518), ('2022-02', 2154220.5604999997), ('2022-03', 2476782.354475), ('2022-04', 2650742.6975), ('2022-05', 2896606.292), ('2022-06', 2369167.9195499998), ('2022-07', 2534660.21745), ('2022-08', 2753847.2355), ('2022-09', 2747878.202475), ('2022-10', 3027347.906), ('2022-11', 3318383.7166999998), ('2022-12', 3820442.8989999997), ('2023-01', 2550104.0784), ('2023-02', 2210249.5464), ('2023-03', 2706245.3046), ('2023-04', 2843709.048), ('2023-05', 2885531.304), ('2023-06', 2478351.7836), ('2023-07', 2690121.2076), ('2023-08', 2944585.7399999998), ('2023-09', 3065756.4882), ('2023-10', 3158364.264), ('2023-11', 3790083.2268), ('2023-12', 4028376.2063999996), ('2024-01', 2803784.59125), ('2024-02', 2148288.671875), ('2024-03', 2982092.7737499997), ('2024-04', 3027880.6125), ('2024-05', 2933160.1125), ('2024-06', 2602001.565), ('2024-07', 2654527.8712500003), ('2024-08', 3057769.125), ('2024-09', 1741987.6687500002)]\n"
     ]
    }
   ],
   "source": [
    "#Every months  in the dataframe\n",
    "Months= df.groupby('Year_Month')['Gross_Amount'].sum().reset_index()\n",
    "\n",
    "# If you want to convert it into a list of tuples\n",
    "Month_list = list(zip(Months['Year_Month'], Months['Gross_Amount']))\n",
    "print(Month_list)"
   ]
  },
  {
   "cell_type": "code",
   "execution_count": 35,
   "id": "0c2d0581",
   "metadata": {
    "execution": {
     "iopub.execute_input": "2024-10-03T16:06:51.285035Z",
     "iopub.status.busy": "2024-10-03T16:06:51.284561Z",
     "iopub.status.idle": "2024-10-03T16:06:51.290922Z",
     "shell.execute_reply": "2024-10-03T16:06:51.289396Z"
    },
    "papermill": {
     "duration": 0.03313,
     "end_time": "2024-10-03T16:06:51.293690",
     "exception": false,
     "start_time": "2024-10-03T16:06:51.260560",
     "status": "completed"
    },
    "tags": []
   },
   "outputs": [],
   "source": [
    "#unzipping month and sales in two different variables\n",
    "Months,Monthly_sale=zip(*Month_list)"
   ]
  },
  {
   "cell_type": "code",
   "execution_count": 36,
   "id": "77e49afc",
   "metadata": {
    "execution": {
     "iopub.execute_input": "2024-10-03T16:06:51.342066Z",
     "iopub.status.busy": "2024-10-03T16:06:51.341594Z",
     "iopub.status.idle": "2024-10-03T16:06:52.687782Z",
     "shell.execute_reply": "2024-10-03T16:06:52.686304Z"
    },
    "papermill": {
     "duration": 1.374284,
     "end_time": "2024-10-03T16:06:52.691284",
     "exception": false,
     "start_time": "2024-10-03T16:06:51.317000",
     "status": "completed"
    },
    "tags": []
   },
   "outputs": [
    {
     "data": {
      "image/png": "[encoded data removed]",
      "text/plain": [
       "<Figure size 1200x600 with 1 Axes>"
      ]
     },
     "metadata": {},
     "output_type": "display_data"
    }
   ],
   "source": [
    "#plotting the given insights\n",
    "plt.figure(figsize=(12, 6))  # Increase the width of the plot\n",
    "plt.plot(Months, Monthly_sale, marker='o')  # Line plot with dots\n",
    "plt.xlabel(\"Month\")\n",
    "plt.ylabel(\"Monthly Sales\")\n",
    "plt.title(\"Monthly Sales Over Time\")\n",
    "plt.xticks(rotation=90)  # Rotate x-axis labels for better visibility\n",
    "plt.grid(True)  # Adds gridlines for better readability\n",
    "plt.tight_layout()  # Adjusts layout to prevent label cutoff\n",
    "plt.savefig(\"monthly_sales.png\")\n",
    "plt.show()\n"
   ]
  },
  {
   "cell_type": "code",
   "execution_count": 37,
   "id": "d5cfbcc7",
   "metadata": {
    "execution": {
     "iopub.execute_input": "2024-10-03T16:06:52.740995Z",
     "iopub.status.busy": "2024-10-03T16:06:52.740546Z",
     "iopub.status.idle": "2024-10-03T16:06:52.747485Z",
     "shell.execute_reply": "2024-10-03T16:06:52.746098Z"
    },
    "papermill": {
     "duration": 0.035728,
     "end_time": "2024-10-03T16:06:52.750559",
     "exception": false,
     "start_time": "2024-10-03T16:06:52.714831",
     "status": "completed"
    },
    "tags": []
   },
   "outputs": [
    {
     "name": "stdout",
     "output_type": "stream",
     "text": [
      "The month with the highest sales is 2023-12 with sales of 4028376.2063999996\n"
     ]
    }
   ],
   "source": [
    "\n",
    "# Find the month with the highest sales\n",
    "highest_month = max(Month_list, key=lambda x: x[1])\n",
    "\n",
    "# Print the result\n",
    "print(f\"The month with the highest sales is {highest_month[0]} with sales of {highest_month[1]}\")\n"
   ]
  },
  {
   "cell_type": "markdown",
   "id": "23451932",
   "metadata": {
    "papermill": {
     "duration": 0.024741,
     "end_time": "2024-10-03T16:06:52.809905",
     "exception": false,
     "start_time": "2024-10-03T16:06:52.785164",
     "status": "completed"
    },
    "tags": []
   },
   "source": [
    "#### How do purchase patterns vary across different regions or cities? Which location has the highest revenue?"
   ]
  },
  {
   "cell_type": "code",
   "execution_count": 38,
   "id": "2dae18e4",
   "metadata": {
    "execution": {
     "iopub.execute_input": "2024-10-03T16:06:52.861822Z",
     "iopub.status.busy": "2024-10-03T16:06:52.861266Z",
     "iopub.status.idle": "2024-10-03T16:06:52.883129Z",
     "shell.execute_reply": "2024-10-03T16:06:52.881989Z"
    },
    "papermill": {
     "duration": 0.049878,
     "end_time": "2024-10-03T16:06:52.885846",
     "exception": false,
     "start_time": "2024-10-03T16:06:52.835968",
     "status": "completed"
    },
    "tags": []
   },
   "outputs": [
    {
     "data": {
      "text/html": [
       "<div>\n",
       "<style scoped>\n",
       "    .dataframe tbody tr th:only-of-type {\n",
       "        vertical-align: middle;\n",
       "    }\n",
       "\n",
       "    .dataframe tbody tr th {\n",
       "        vertical-align: top;\n",
       "    }\n",
       "\n",
       "    .dataframe thead th {\n",
       "        text-align: right;\n",
       "    }\n",
       "</style>\n",
       "<table border=\"1\" class=\"dataframe\">\n",
       "  <thead>\n",
       "    <tr style=\"text-align: right;\">\n",
       "      <th></th>\n",
       "      <th>CID</th>\n",
       "      <th>TID</th>\n",
       "      <th>Gender</th>\n",
       "      <th>Age_Group</th>\n",
       "      <th>Purchase_Date</th>\n",
       "      <th>Product_Category</th>\n",
       "      <th>Discount_Availed</th>\n",
       "      <th>Discount_Name</th>\n",
       "      <th>Discount_Amount(INR)</th>\n",
       "      <th>Gross_Amount</th>\n",
       "      <th>Net_Amount</th>\n",
       "      <th>Purchase_Method</th>\n",
       "      <th>Location</th>\n",
       "      <th>Year_Month</th>\n",
       "    </tr>\n",
       "  </thead>\n",
       "  <tbody>\n",
       "    <tr>\n",
       "      <th>0</th>\n",
       "      <td>943146</td>\n",
       "      <td>5876328741</td>\n",
       "      <td>Female</td>\n",
       "      <td>25-45</td>\n",
       "      <td>2023-08-30 20:27:08</td>\n",
       "      <td>Electronics</td>\n",
       "      <td>Yes</td>\n",
       "      <td>FESTIVE50</td>\n",
       "      <td>64.30</td>\n",
       "      <td>725.304000</td>\n",
       "      <td>661.004000</td>\n",
       "      <td>Credit Card</td>\n",
       "      <td>Ahmedabad</td>\n",
       "      <td>2023-08</td>\n",
       "    </tr>\n",
       "    <tr>\n",
       "      <th>1</th>\n",
       "      <td>180079</td>\n",
       "      <td>1018503182</td>\n",
       "      <td>Male</td>\n",
       "      <td>25-45</td>\n",
       "      <td>2024-02-23 09:33:46</td>\n",
       "      <td>Electronics</td>\n",
       "      <td>Yes</td>\n",
       "      <td>SEASONALOFFER21</td>\n",
       "      <td>175.19</td>\n",
       "      <td>4638.991875</td>\n",
       "      <td>4463.801875</td>\n",
       "      <td>Credit Card</td>\n",
       "      <td>Bangalore</td>\n",
       "      <td>2024-02</td>\n",
       "    </tr>\n",
       "    <tr>\n",
       "      <th>2</th>\n",
       "      <td>337580</td>\n",
       "      <td>3814082218</td>\n",
       "      <td>Other</td>\n",
       "      <td>60 and above</td>\n",
       "      <td>2022-03-06 09:09:50</td>\n",
       "      <td>Clothing</td>\n",
       "      <td>Yes</td>\n",
       "      <td>SEASONALOFFER21</td>\n",
       "      <td>211.54</td>\n",
       "      <td>1986.372575</td>\n",
       "      <td>1774.832575</td>\n",
       "      <td>Credit Card</td>\n",
       "      <td>Delhi</td>\n",
       "      <td>2022-03</td>\n",
       "    </tr>\n",
       "    <tr>\n",
       "      <th>3</th>\n",
       "      <td>180333</td>\n",
       "      <td>1395204173</td>\n",
       "      <td>Other</td>\n",
       "      <td>60 and above</td>\n",
       "      <td>2020-11-04 04:41:57</td>\n",
       "      <td>Sports &amp; Fitness</td>\n",
       "      <td>No</td>\n",
       "      <td>Not Availabel</td>\n",
       "      <td>0.00</td>\n",
       "      <td>5695.612650</td>\n",
       "      <td>5695.612650</td>\n",
       "      <td>Debit Card</td>\n",
       "      <td>Delhi</td>\n",
       "      <td>2020-11</td>\n",
       "    </tr>\n",
       "    <tr>\n",
       "      <th>4</th>\n",
       "      <td>447553</td>\n",
       "      <td>8009390577</td>\n",
       "      <td>Male</td>\n",
       "      <td>18-25</td>\n",
       "      <td>2022-05-31 17:00:32</td>\n",
       "      <td>Sports &amp; Fitness</td>\n",
       "      <td>Yes</td>\n",
       "      <td>WELCOME5</td>\n",
       "      <td>439.92</td>\n",
       "      <td>2292.651500</td>\n",
       "      <td>1852.731500</td>\n",
       "      <td>Credit Card</td>\n",
       "      <td>Delhi</td>\n",
       "      <td>2022-05</td>\n",
       "    </tr>\n",
       "  </tbody>\n",
       "</table>\n",
       "</div>"
      ],
      "text/plain": [
       "      CID         TID  Gender     Age_Group       Purchase_Date  \\\n",
       "0  943146  5876328741  Female         25-45 2023-08-30 20:27:08   \n",
       "1  180079  1018503182    Male         25-45 2024-02-23 09:33:46   \n",
       "2  337580  3814082218   Other  60 and above 2022-03-06 09:09:50   \n",
       "3  180333  1395204173   Other  60 and above 2020-11-04 04:41:57   \n",
       "4  447553  8009390577    Male         18-25 2022-05-31 17:00:32   \n",
       "\n",
       "   Product_Category Discount_Availed    Discount_Name  Discount_Amount(INR)  \\\n",
       "0       Electronics              Yes        FESTIVE50                 64.30   \n",
       "1       Electronics              Yes  SEASONALOFFER21                175.19   \n",
       "2          Clothing              Yes  SEASONALOFFER21                211.54   \n",
       "3  Sports & Fitness               No    Not Availabel                  0.00   \n",
       "4  Sports & Fitness              Yes         WELCOME5                439.92   \n",
       "\n",
       "   Gross_Amount   Net_Amount Purchase_Method   Location Year_Month  \n",
       "0    725.304000   661.004000     Credit Card  Ahmedabad    2023-08  \n",
       "1   4638.991875  4463.801875     Credit Card  Bangalore    2024-02  \n",
       "2   1986.372575  1774.832575     Credit Card      Delhi    2022-03  \n",
       "3   5695.612650  5695.612650      Debit Card      Delhi    2020-11  \n",
       "4   2292.651500  1852.731500     Credit Card      Delhi    2022-05  "
      ]
     },
     "execution_count": 38,
     "metadata": {},
     "output_type": "execute_result"
    }
   ],
   "source": [
    "df.head()"
   ]
  },
  {
   "cell_type": "code",
   "execution_count": 39,
   "id": "89d9cce7",
   "metadata": {
    "execution": {
     "iopub.execute_input": "2024-10-03T16:06:52.935367Z",
     "iopub.status.busy": "2024-10-03T16:06:52.934910Z",
     "iopub.status.idle": "2024-10-03T16:06:52.958067Z",
     "shell.execute_reply": "2024-10-03T16:06:52.956696Z"
    },
    "papermill": {
     "duration": 0.051389,
     "end_time": "2024-10-03T16:06:52.960976",
     "exception": false,
     "start_time": "2024-10-03T16:06:52.909587",
     "status": "completed"
    },
    "tags": []
   },
   "outputs": [
    {
     "data": {
      "text/html": [
       "<div>\n",
       "<style scoped>\n",
       "    .dataframe tbody tr th:only-of-type {\n",
       "        vertical-align: middle;\n",
       "    }\n",
       "\n",
       "    .dataframe tbody tr th {\n",
       "        vertical-align: top;\n",
       "    }\n",
       "\n",
       "    .dataframe thead th {\n",
       "        text-align: right;\n",
       "    }\n",
       "</style>\n",
       "<table border=\"1\" class=\"dataframe\">\n",
       "  <thead>\n",
       "    <tr style=\"text-align: right;\">\n",
       "      <th></th>\n",
       "      <th>Location</th>\n",
       "      <th>Gross_Amount</th>\n",
       "    </tr>\n",
       "  </thead>\n",
       "  <tbody>\n",
       "    <tr>\n",
       "      <th>0</th>\n",
       "      <td>Ahmedabad</td>\n",
       "      <td>8.491796e+06</td>\n",
       "    </tr>\n",
       "    <tr>\n",
       "      <th>1</th>\n",
       "      <td>Bangalore</td>\n",
       "      <td>2.475414e+07</td>\n",
       "    </tr>\n",
       "    <tr>\n",
       "      <th>2</th>\n",
       "      <td>Chennai</td>\n",
       "      <td>1.323933e+07</td>\n",
       "    </tr>\n",
       "    <tr>\n",
       "      <th>3</th>\n",
       "      <td>Dehradun</td>\n",
       "      <td>1.646191e+06</td>\n",
       "    </tr>\n",
       "    <tr>\n",
       "      <th>4</th>\n",
       "      <td>Delhi</td>\n",
       "      <td>3.255144e+07</td>\n",
       "    </tr>\n",
       "    <tr>\n",
       "      <th>5</th>\n",
       "      <td>Hyderabad</td>\n",
       "      <td>1.658304e+07</td>\n",
       "    </tr>\n",
       "    <tr>\n",
       "      <th>6</th>\n",
       "      <td>Jaipur</td>\n",
       "      <td>5.095995e+06</td>\n",
       "    </tr>\n",
       "    <tr>\n",
       "      <th>7</th>\n",
       "      <td>Kolkata</td>\n",
       "      <td>8.178323e+06</td>\n",
       "    </tr>\n",
       "    <tr>\n",
       "      <th>8</th>\n",
       "      <td>Lucknow</td>\n",
       "      <td>3.421489e+06</td>\n",
       "    </tr>\n",
       "    <tr>\n",
       "      <th>9</th>\n",
       "      <td>Mumbai</td>\n",
       "      <td>3.363684e+07</td>\n",
       "    </tr>\n",
       "    <tr>\n",
       "      <th>10</th>\n",
       "      <td>Other</td>\n",
       "      <td>3.220642e+06</td>\n",
       "    </tr>\n",
       "    <tr>\n",
       "      <th>11</th>\n",
       "      <td>Pune</td>\n",
       "      <td>1.141252e+07</td>\n",
       "    </tr>\n",
       "    <tr>\n",
       "      <th>12</th>\n",
       "      <td>Srinagar</td>\n",
       "      <td>1.657076e+06</td>\n",
       "    </tr>\n",
       "    <tr>\n",
       "      <th>13</th>\n",
       "      <td>Varanasi</td>\n",
       "      <td>1.822689e+06</td>\n",
       "    </tr>\n",
       "  </tbody>\n",
       "</table>\n",
       "</div>"
      ],
      "text/plain": [
       "     Location  Gross_Amount\n",
       "0   Ahmedabad  8.491796e+06\n",
       "1   Bangalore  2.475414e+07\n",
       "2     Chennai  1.323933e+07\n",
       "3    Dehradun  1.646191e+06\n",
       "4       Delhi  3.255144e+07\n",
       "5   Hyderabad  1.658304e+07\n",
       "6      Jaipur  5.095995e+06\n",
       "7     Kolkata  8.178323e+06\n",
       "8     Lucknow  3.421489e+06\n",
       "9      Mumbai  3.363684e+07\n",
       "10      Other  3.220642e+06\n",
       "11       Pune  1.141252e+07\n",
       "12   Srinagar  1.657076e+06\n",
       "13   Varanasi  1.822689e+06"
      ]
     },
     "execution_count": 39,
     "metadata": {},
     "output_type": "execute_result"
    }
   ],
   "source": [
    "#locations and sales of each city\n",
    "location=df.groupby(\"Location\")[\"Gross_Amount\"].sum().reset_index()\n",
    "location"
   ]
  },
  {
   "cell_type": "code",
   "execution_count": 40,
   "id": "4cb777e0",
   "metadata": {
    "execution": {
     "iopub.execute_input": "2024-10-03T16:06:53.014089Z",
     "iopub.status.busy": "2024-10-03T16:06:53.013602Z",
     "iopub.status.idle": "2024-10-03T16:06:53.023281Z",
     "shell.execute_reply": "2024-10-03T16:06:53.021946Z"
    },
    "papermill": {
     "duration": 0.04039,
     "end_time": "2024-10-03T16:06:53.025869",
     "exception": false,
     "start_time": "2024-10-03T16:06:52.985479",
     "status": "completed"
    },
    "tags": []
   },
   "outputs": [
    {
     "data": {
      "text/plain": [
       "[('Ahmedabad', 8491795.866),\n",
       " ('Bangalore', 24754136.794175),\n",
       " ('Chennai', 13239329.757775),\n",
       " ('Dehradun', 1646191.0661250001),\n",
       " ('Delhi', 32551443.42225),\n",
       " ('Hyderabad', 16583044.852275),\n",
       " ('Jaipur', 5095995.353825),\n",
       " ('Kolkata', 8178323.448125),\n",
       " ('Lucknow', 3421488.925625),\n",
       " ('Mumbai', 33636840.027575),\n",
       " ('Other', 3220642.33415),\n",
       " ('Pune', 11412516.173075),\n",
       " ('Srinagar', 1657076.2380000001),\n",
       " ('Varanasi', 1822689.0695500001)]"
      ]
     },
     "execution_count": 40,
     "metadata": {},
     "output_type": "execute_result"
    }
   ],
   "source": [
    "#converting into a list \n",
    "location_list=list(zip(location[\"Location\"],location[\"Gross_Amount\"]))\n",
    "location_list"
   ]
  },
  {
   "cell_type": "code",
   "execution_count": 41,
   "id": "a7b5d44c",
   "metadata": {
    "execution": {
     "iopub.execute_input": "2024-10-03T16:06:53.077968Z",
     "iopub.status.busy": "2024-10-03T16:06:53.077496Z",
     "iopub.status.idle": "2024-10-03T16:06:53.083329Z",
     "shell.execute_reply": "2024-10-03T16:06:53.082119Z"
    },
    "papermill": {
     "duration": 0.035114,
     "end_time": "2024-10-03T16:06:53.085839",
     "exception": false,
     "start_time": "2024-10-03T16:06:53.050725",
     "status": "completed"
    },
    "tags": []
   },
   "outputs": [],
   "source": [
    "Location,Total_sales=zip(*location_list)"
   ]
  },
  {
   "cell_type": "code",
   "execution_count": 42,
   "id": "58ffd2ad",
   "metadata": {
    "execution": {
     "iopub.execute_input": "2024-10-03T16:06:53.138150Z",
     "iopub.status.busy": "2024-10-03T16:06:53.136876Z",
     "iopub.status.idle": "2024-10-03T16:06:53.728754Z",
     "shell.execute_reply": "2024-10-03T16:06:53.727475Z"
    },
    "papermill": {
     "duration": 0.620965,
     "end_time": "2024-10-03T16:06:53.731722",
     "exception": false,
     "start_time": "2024-10-03T16:06:53.110757",
     "status": "completed"
    },
    "tags": []
   },
   "outputs": [
    {
     "data": {
      "image/png": "[encoded data removed]",
      "text/plain": [
       "<Figure size 1200x600 with 1 Axes>"
      ]
     },
     "metadata": {},
     "output_type": "display_data"
    }
   ],
   "source": [
    "#plotting the given insights\n",
    "plt.figure(figsize=(12, 6))  # Increase the width of the plot\n",
    "plt.bar(Location, Total_sales)  \n",
    "plt.xlabel(\"Locations\")\n",
    "plt.ylabel(\"Total Sales\")\n",
    "plt.title(\"Total sales in different city\")\n",
    "plt.xticks(rotation=90)  # Rotate x-axis labels for better visibilities\n",
    "plt.tight_layout()  # Adjusts layout to prevent label cutoff\n",
    "plt.savefig(\"sales_incity.png\")\n",
    "plt.show()\n"
   ]
  },
  {
   "cell_type": "code",
   "execution_count": null,
   "id": "abb344c6",
   "metadata": {
    "papermill": {
     "duration": 0.025643,
     "end_time": "2024-10-03T16:06:53.782558",
     "exception": false,
     "start_time": "2024-10-03T16:06:53.756915",
     "status": "completed"
    },
    "tags": []
   },
   "outputs": [],
   "source": []
  }
 ],
 "metadata": {
  "kaggle": {
   "accelerator": "none",
   "dataSources": [
    {
     "datasetId": 5730258,
     "sourceId": 9431776,
     "sourceType": "datasetVersion"
    }
   ],
   "dockerImageVersionId": 30775,
   "isGpuEnabled": false,
   "isInternetEnabled": false,
   "language": "python",
   "sourceType": "notebook"
  },
  "kernelspec": {
   "display_name": "Python 3",
   "language": "python",
   "name": "python3"
  },
  "language_info": {
   "codemirror_mode": {
    "name": "ipython",
    "version": 3
   },
   "file_extension": ".py",
   "mimetype": "text/x-python",
   "name": "python",
   "nbconvert_exporter": "python",
   "pygments_lexer": "ipython3",
   "version": "3.10.14"
  },
  "papermill": {
   "default_parameters": {},
   "duration": 14.644043,
   "end_time": "2024-10-03T16:06:54.530444",
   "environment_variables": {},
   "exception": null,
   "input_path": "__notebook__.ipynb",
   "output_path": "__notebook__.ipynb",
   "parameters": {},
   "start_time": "2024-10-03T16:06:39.886401",
   "version": "2.6.0"
  }
 },
 "nbformat": 4,
 "nbformat_minor": 5
}
